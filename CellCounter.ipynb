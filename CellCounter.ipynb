{
 "cells": [
  {
   "cell_type": "markdown",
   "metadata": {},
   "source": [
    "# **Nuclear Cell Counter**\n",
    "***\n",
    "\n",
    "## Description\n",
    "Program to count cell that have nuclear or cytosolic signals. It will also quantify the results and make a bar plot to show them.\n",
    "\n",
    "## How to use\n",
    "The script *should* run without a problem, as long as it is provided with the correct folder structure and labeling. If this is not the case than unexpected behaviour may occur during runtime and it is recommended to follow the steps in the following section carefully. This will ensure the least amounts of errors.\n",
    "\n",
    "### Known limits\n",
    "- You cannot use more than 9 pictures of one treatment and one sample variant, because the sample names cap out at XX-YYY-9 and going over will result in problems with the data processing. (Will be fixed later.)\n",
    "- DataCollector will sequentially do each sample. One after another, maybe the process can be speed up using multithreading. (Will have to look at that)\n",
    "\n",
    "### Pre-requisite\n",
    "Because the script is skimming through subfolders in a particular way, it is required to have a certian folder structure ready before you start. The labeling of the samples is also important, because the data sorting relies heavily on sample names, such that it will group samples from the same treatment for the summary. We will now look at how we need to create these labels and folder structures, in order to work with this script.\n",
    "\n",
    "1. Create a folder. The name of this folder is not important for the script and can be called howere you want.\n",
    "\n",
    "1. Inside this folder create a folder for each treatment you want to look at. Label each treatment with a 3 letter code.\n",
    "    - Example: If I want to look at the exponential phase, Rapamycine treatment and Cyclohexamide treatment, then I need 3 folders. One for Rapamycine called RAP, one for Cyclohexamide called CHX and one for the exponential phase called EXP.\n",
    "    <br>\n",
    "\n",
    "1. Now go inside one of these newly created folders and make a folder for each sample variant you have. The sample variants should be distinguishable via a 2 letter code.\n",
    "    - If we enter the EXP folder from the previous step, we should see nothing inside of it, because we just made it. Inside here we make new folders. I have three different samples that I want to test:\n",
    "        - RTG3-GFP-WT\n",
    "        - RTG3-GFP-8A\n",
    "        - RTG3-GFP-8E\n",
    "    - Because I have 3 samples I will need to make 3 folders and because each folder can only have 2 letters to describe the sample my folders that I will put inside EXP will be called:\n",
    "        - WT\n",
    "        - 8A\n",
    "        - 8E \n",
    "        <br>\n",
    "\n",
    "1. Exit the folder and repeat the previous step until all new folders have the same subfolders.\n",
    "    - In folder EXP I already have WT, 8A, 8E, but I still have the folders RAP and CHX, which need the same subfolder structure.\n",
    "    <br>\n",
    "\n",
    "1. Now we have the correct folder structure, but the pictures are still missing. To fix that it's now time to processe the microscopy pictures in fiji. I use the Z-Stack function to make stacks from my pictures and save the results inside of each corresponding folder with an additional index at the end, the filename also corresponds to the folder structure.\n",
    "    - If I have processed a picture from WT in EXP I will safe it inside the folder EXP and there inside the folder WT with the name WT-EXP-1. If I have a second one I will safe it at the same place but as WT-EXP-2 and so on and so forth.\n",
    "\n",
    "1. Once you have all of this you will need to note the path to your folder. This path will replace the value of Path and will guid the program to the folder with all your pictures. Additionally write down or memorize the all 3 letter and 2 letter codes used in the previous steps. These will replace the values inside Conditions and Samples variables.\n",
    "\n",
    "1. Proceed to the section called [Main](#Main)."
   ]
  },
  {
   "cell_type": "code",
   "execution_count": 1,
   "metadata": {},
   "outputs": [],
   "source": [
    "import numpy as np\n",
    "import pandas as pd\n",
    "import matplotlib.pyplot as plt\n",
    "import skimage \n",
    "from cellpose import models\n",
    "import os"
   ]
  },
  {
   "cell_type": "markdown",
   "metadata": {},
   "source": [
    "## Functions\n",
    "This section defines the functions that run at the end of the script. This includes loading of the images, creation of mask and processing.\n",
    "\n",
    "### NucCounter\n",
    "This function takes an image path and loads it using the skimage package. The function then sets parameters for __[cellpose](https://www.cellpose.org/)__, which is a package that analyzes microscopy pictures and distinguishes cells from each other. From this distinction a mask is created, which will be labeled so that each connected area is considered a cell. Each cell has then its mean and max intensity extracted using skimage.measure.regionprops_table. The final step takes the difference of these two values and filters it using a threshold set by the user. The items in each list are counted and saved as Nuclear, Cytosoic or Total number of cells. The function then returns these values.\n",
    "\n",
    "### DataCollector\n",
    "This function takes the path to the pictures and all the other options to skim through the provided folder and collect all the wanted data. But first of all it changes the working directory to the provided path. This ensures that the script runs in the correct place and not somewhere unwanted.\n",
    "The next step is creating an empty DataFrame from pandas. The only thing provided are the Values, which are the column titles. Each value collected will be placed in a column and the values are passed in by the user. The function then iterates through all provided folders and subfolders and invoces the NucCounter function for each sample found."
   ]
  },
  {
   "cell_type": "code",
   "execution_count": 59,
   "metadata": {},
   "outputs": [],
   "source": [
    "def NucCounter(image, model_type='cyto', intensity_threshold=150, diameter=60, channels=[[0,0]],region_props_Select=('intensity_mean','intensity_max')):\n",
    "    # Loading the provided image via skimage.io\n",
    "    img = skimage.io.imread(image)\n",
    "\n",
    "    # Setting model for the cellpose algorithm and running it to generate a mask for the current image.\n",
    "    model = models.Cellpose(model_type=model_type)\n",
    "    masks, flows, styles, diams = model.eval(img, diameter=diameter, channels=channels)\n",
    "\n",
    "    # Creating a labeled mask for the regionprops_table and extracting the mean and maximum intensity of each labeled cell.\n",
    "    img_labeled = skimage.measure.label(masks)\n",
    "    region_data = skimage.measure.regionprops_table(img_labeled,img,('intensity_mean','intensity_max'))\n",
    "\n",
    "    # Here the difference in instensity from the mean is calculated and those values above the intensity_threshold are kept as nuclear signals.\n",
    "    # Additionally the intensity values of the nuclear signals are storred.\n",
    "    delta_intensity = region_data[region_props_Select[1]]-region_data[region_props_Select[0]]\n",
    "    Nuclear_Intensity = delta_intensity[delta_intensity > intensity_threshold]\n",
    "    NumNuclear = len(Nuclear_Intensity)\n",
    "    NumTotal = len(delta_intensity)\n",
    "    NumCyto = NumTotal - NumNuclear\n",
    "\n",
    "    return NumNuclear, NumTotal, NumCyto\n",
    "\n",
    "\n",
    "def DataCollector(Path, Conditions, Samples, Values, options):\n",
    "    # Changing the working directory for the program. So that it can access the files\n",
    "    init_pwd = os.getcwd()\n",
    "    os.chdir(Path)\n",
    "\n",
    "    # Creating an empty Dataframe with columns defined by the Values list.\n",
    "    Data = pd.DataFrame(columns=Values)\n",
    "\n",
    "    for index in Conditions:\n",
    "        for undex in Samples:\n",
    "            FileList = os.listdir('./{}/{}'.format(index,undex))\n",
    "            for subdex in FileList:\n",
    "                Nuc,Total,Cyto = NucCounter(\n",
    "                    image='./{}/{}/{}'.format(index,undex,subdex),\n",
    "                    model_type=options['model_type'],\n",
    "                    intensity_threshold=options['intensity_threshold'],\n",
    "                    diameter=options['diameter'],\n",
    "                    channels=options['channels'],\n",
    "                    region_props_Select=options['region_props_Select']\n",
    "                    )\n",
    "                New_Row = pd.Series({\n",
    "                    Values[0]:subdex[4:-10],\n",
    "                    Values[1]:undex,\n",
    "                    Values[2]:index,\n",
    "                    Values[3]:Nuc,\n",
    "                    Values[4]:Total,\n",
    "                    Values[5]:Cyto\n",
    "                })\n",
    "                Data = pd.concat([Data, New_Row.to_frame().T], ignore_index=True)\n",
    "                print('Sample {} analyzed'.format(subdex[4:-8]))\n",
    "    \n",
    "    os.chdir(init_pwd)\n",
    "    return Data\n",
    "\n",
    "def DataVisualizer(Data,PlotType='bar',Title='',XLabel='',YLabel=''):\n",
    "    # First step is to sum all values from the same sample and treatment and calculate the percentage of cells that show nuclear singal.\n",
    "    Summary = Data\n",
    "    #Summary.drop(['Name'], axis=1, inplace=True)\n",
    "    Summary = Summary.groupby([\"Sample\",\"Treatment\"]).sum()\n",
    "    Summary['Percentage'] = (Summary['Nuclear'] / Summary['Total']) * 100\n",
    "\n",
    "    # Here we replace the name index with numbers to reduce duplicate values.\n",
    "    #Summary = Summary.set_index(pd.Index(range(0,len(Summary))),drop=False)\n",
    "\n",
    "    # Not all values are needed to visualize the data, so a subset is created, which is easier to visualize than the Summary set.\n",
    "    CalcData = Summary\n",
    "    CalcData.drop(['Nuclear','Cytosolic','Total'], axis=1, inplace=True)\n",
    "    CalcData = CalcData.reset_index(['Sample','Treatment']) \n",
    "    CalcData = CalcData.pivot(index='Sample',columns='Treatment',values='Percentage')# Pivot allows us to have the correct labeling of the columns and rows, such that the bar plot, which is created later is able to show groups.\n",
    "    CalcData.plot(\n",
    "        kind=PlotType,\n",
    "        xlabel=XLabel,\n",
    "        ylabel=YLabel,\n",
    "        title=Title\n",
    "    )\n",
    "    "
   ]
  },
  {
   "cell_type": "markdown",
   "metadata": {},
   "source": [
    "## Main\n",
    "### Starting the Program\n",
    "\n",
    "1. Please replace all 3 letter codes inside the **Conditions** list with the codes that you noted or memorized during the pre-requisite steps.\n",
    "\n",
    "1. Please replace all 2 letter codes inside the **Samples** list with the codes that you noted or memorized during the pre-requisite steps.\n",
    "\n",
    "1. Please replace the value of **Path** with your path value from the pre-requisite steps.\n",
    "\n",
    "1. (Optional) Change the options for the cellpose model or intensity threshold inside the **options** list. If you are unsure, you can leave the standard parameters for the first run.\n",
    "\n",
    "1. Execute `Run All` to execute all cells in sequence.\n",
    "\n",
    "1. Done"
   ]
  },
  {
   "cell_type": "code",
   "execution_count": 61,
   "metadata": {},
   "outputs": [
    {
     "name": "stdout",
     "output_type": "stream",
     "text": [
      "Sample WT-ASS-1 analyzed\n",
      "Sample P2-ASS-1 analyzed\n"
     ]
    }
   ],
   "source": [
    "Conditions = [\n",
    "    \"ASS\"\n",
    "]\n",
    "\n",
    "Samples = [\n",
    "    \"WT\",\n",
    "    \"P2\"\n",
    "]\n",
    "\n",
    "Values = [\n",
    "    \"Name\",\n",
    "    \"Sample\",\n",
    "    \"Treatment\",\n",
    "    \"Nuclear\",\n",
    "    \"Total\",\n",
    "    \"Cytosolic\"\n",
    "]\n",
    "\n",
    "Path = './Marco'\n",
    "'intensity_max'\n",
    "options = {\n",
    "    'model_type':'cyto', \n",
    "    'intensity_threshold':20, \n",
    "    'diameter':60, \n",
    "    'channels':[[0,0]],\n",
    "    'region_props_Select':('intensity_mean-1','intensity_max-1') # Write first selected mean value and then selected max value.\n",
    "}\n",
    "\n",
    "Data = DataCollector(Path, Conditions, Samples, Values, options)         \n"
   ]
  },
  {
   "cell_type": "code",
   "execution_count": 62,
   "metadata": {},
   "outputs": [
    {
     "data": {
      "image/png": "[encoded data removed]",
      "text/plain": [
       "<Figure size 640x480 with 1 Axes>"
      ]
     },
     "metadata": {},
     "output_type": "display_data"
    }
   ],
   "source": [
    "DataVisualizer(\n",
    "    Data=Data,\n",
    "    Title='RTG3-GFP nuclear localization upon treatments',\n",
    "    XLabel='RTG-GFP',\n",
    "    YLabel='Nuclear %'\n",
    ")"
   ]
  }
 ],
 "metadata": {
  "kernelspec": {
   "display_name": "Python 3.10.7 64-bit",
   "language": "python",
   "name": "python3"
  },
  "language_info": {
   "codemirror_mode": {
    "name": "ipython",
    "version": 3
   },
   "file_extension": ".py",
   "mimetype": "text/x-python",
   "name": "python",
   "nbconvert_exporter": "python",
   "pygments_lexer": "ipython3",
   "version": "3.10.8"
  },
  "vscode": {
   "interpreter": {
    "hash": "e7370f93d1d0cde622a1f8e1c04877d8463912d04d973331ad4851f04de6915a"
   }
  }
 },
 "nbformat": 4,
 "nbformat_minor": 2
}
